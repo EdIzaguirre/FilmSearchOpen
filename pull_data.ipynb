{
 "cells": [
  {
   "cell_type": "markdown",
   "metadata": {},
   "source": [
    "# Imports"
   ]
  },
  {
   "cell_type": "code",
   "execution_count": 12,
   "metadata": {},
   "outputs": [],
   "source": [
    "import csv\n",
    "import os\n",
    "from utils import get_id_list, get_data, write_file\n",
    "import json \n",
    "\n",
    "from dotenv import load_dotenv\n",
    "load_dotenv()\n",
    "\n",
    "with open('./config.json') as f:\n",
    "    config = json.load(f)"
   ]
  },
  {
   "cell_type": "markdown",
   "metadata": {},
   "source": [
    "# Grabbing All Movie IDs"
   ]
  },
  {
   "cell_type": "code",
   "execution_count": 13,
   "metadata": {},
   "outputs": [],
   "source": [
    "TMBD_API_KEY = os.getenv('TMBD_API_KEY')\n",
    "\n",
    "YEARS = range(config[\"years\"][0], config[\"years\"][-1]+1)\n",
    "CSV_HEADER = ['Title', 'Runtime (minutes)', 'Language', 'Overview',\n",
    "              'Release Year', 'Genre', 'Keywords',\n",
    "              'Actors', 'Directors', 'Stream', 'Buy', 'Rent', \n",
    "              'Production Companies']"
   ]
  },
  {
   "cell_type": "markdown",
   "metadata": {},
   "source": [
    "# Writing all IDs to CSV file"
   ]
  },
  {
   "cell_type": "code",
   "execution_count": 14,
   "metadata": {},
   "outputs": [],
   "source": [
    "for year in YEARS:\n",
    "    # Grab list of ids for all films made in {YEAR}\n",
    "    movie_list = list(set(get_id_list(TMBD_API_KEY, year)))\n",
    "\n",
    "    FILE_NAME = f'./data/{year}_movie_collection_data.csv'\n",
    "\n",
    "    # Creating file\n",
    "    with open(FILE_NAME, 'w') as f:\n",
    "        writer = csv.writer(f)\n",
    "        writer.writerow(CSV_HEADER)\n",
    "\n",
    "    # Iterate through list of ids to get data\n",
    "    for id in movie_list:\n",
    "        dict = get_data(TMBD_API_KEY, id)\n",
    "        write_file(FILE_NAME, dict)"
   ]
  },
  {
   "cell_type": "markdown",
   "metadata": {},
   "source": [
    "# Random Testing"
   ]
  },
  {
   "cell_type": "code",
   "execution_count": 7,
   "metadata": {},
   "outputs": [
    {
     "name": "stdout",
     "output_type": "stream",
     "text": [
      "2022\n",
      "mother, martial arts, kung fu, philosophy, generations conflict, chinese woman, laundromat, chinese, east asian lead, divorce, family, hot dog, asian woman, chinese immigrant, mother daughter relationship, asian american, intergenerational trauma, internal revenue service\n",
      "Actors: James Hong, Michelle Yeoh, Ke Huy Quan, Stephanie Hsu, Jamie Lee Curtis\n",
      "Director: Daniel Kwan, Daniel Scheinert\n",
      "A24, IAC Films, AGBO, Ley Line Entertainment, TPC, Year of the Rat\n"
     ]
    }
   ],
   "source": [
    "import requests\n",
    "import time\n",
    "import json\n",
    "from iso639 import languages\n",
    "\n",
    "max_retries = 5\n",
    "\n",
    "# Test the function\n",
    "Movie_ID = '545611'\n",
    "# Create empty index\n",
    "API_key = os.getenv('TMBD_API_KEY')\n",
    "query = 'https://api.themoviedb.org/3/movie/' + Movie_ID + \\\n",
    "    '?api_key='+API_key +'&append_to_response=keywords,' + \\\n",
    "        'watch/providers,credits&language=en-US'\n",
    "\n",
    "response = requests.get(query)\n",
    "for i in range(max_retries):\n",
    "    if response.status_code == 429:\n",
    "        # If the response was a 429, wait and then try again\n",
    "        print(\n",
    "            f\"Request limit reached. Waiting and retrying ({i+1}/{\n",
    "                max_retries})\")\n",
    "        time.sleep(2 ** i)  # Exponential backoff\n",
    "    else:\n",
    "        dict = response.json()\n",
    "\n",
    "# Pretty print the JSON data\n",
    "pretty_json = json.dumps(dict, indent=4)\n",
    "\n",
    "# print(pretty_json)\n",
    "\n",
    "def is_english(s):\n",
    "    try:\n",
    "        s.encode(encoding='utf-8').decode('ascii')\n",
    "    except UnicodeDecodeError:\n",
    "        return False\n",
    "    else:\n",
    "        return True\n",
    "\n",
    "title = dict['title']\n",
    "runtime = str(dict['runtime']) + \" minutes\"\n",
    "language_code = dict['original_language']\n",
    "release_date = dict['release_date']\n",
    "overview = dict['overview']\n",
    "all_genres = dict['genres']\n",
    "website = 'movie_collection_data.csv' if dict['homepage'] == '' else dict['homepage']\n",
    "prod_companies = dict['production_companies']\n",
    "\n",
    "# Parsing release date\n",
    "release_year = release_date.split('-')[0]\n",
    "\n",
    "# Converting language\n",
    "if language_code != 'xx':\n",
    "    language = languages.get(alpha2=language_code).name\n",
    "else:\n",
    "    language = 'Unknown'\n",
    "\n",
    "# Parsing genres\n",
    "genre_str = \"\"\n",
    "for genre in all_genres:\n",
    "    genre_str += genre['name'] + \", \"\n",
    "genre_str = genre_str[:-2]\n",
    "\n",
    "# Parsing keywords\n",
    "all_keywords = dict['keywords']['keywords']\n",
    "keyword_str = \"\"\n",
    "for keyword in all_keywords:\n",
    "    if is_english(keyword['name']):\n",
    "        keyword_str += keyword['name'] + \", \"\n",
    "if keyword_str == \"\":\n",
    "    keyword_str = \"None\" \n",
    "else:\n",
    "    keyword_str = keyword_str[:-2]\n",
    "print(keyword_str)\n",
    "\n",
    "# Parsing watch providers\n",
    "watch_providers = dict['watch/providers']['results']\n",
    "stream_str, buy_str, rent_str = \"\", \"\", \"\"\n",
    "if 'US' in watch_providers:\n",
    "    watch_providers = watch_providers['US']\n",
    "    provider_strings = ['flatrate', 'buy', 'rent']\n",
    "    for string in provider_strings:\n",
    "        if string not in watch_providers:\n",
    "            continue\n",
    "\n",
    "        _str = \"\"\n",
    "\n",
    "        for element in watch_providers[string]:\n",
    "            _str += element['provider_name'] + \", \"\n",
    "        _str = _str[:-2] + \" \"\n",
    "\n",
    "        if string == 'flatrate':\n",
    "            stream_str += _str\n",
    "        elif string == 'buy':\n",
    "            buy_str += _str\n",
    "        else:\n",
    "            rent_str += _str\n",
    "\n",
    "\n",
    "credits = dict['credits']\n",
    "actor_list, director_list = [], []\n",
    "\n",
    "# Parsing cast\n",
    "cast = credits['cast']\n",
    "NUM_ACTORS = 5\n",
    "for member in cast[:NUM_ACTORS]:\n",
    "    actor_list.append(member[\"name\"])\n",
    "\n",
    "# Parsing crew\n",
    "crew = credits['crew']\n",
    "for member in crew:\n",
    "    if member['job'] == 'Director':\n",
    "        director_list.append(member[\"name\"])\n",
    "\n",
    "actor_str = ', '.join(list(set(actor_list)))\n",
    "director_str = ', '.join(list(set(director_list)))\n",
    "\n",
    "print(f\"Actors: {actor_str}\")\n",
    "print(f\"Director: {director_str}\")\n",
    "\n",
    "# Parsing production companies\n",
    "prod_str = \"\"\n",
    "for company in prod_companies:\n",
    "    prod_str += company['name'] + \", \"\n",
    "prod_str = prod_str[:-2]\n",
    "print(prod_str)"
   ]
  },
  {
   "cell_type": "code",
   "execution_count": null,
   "metadata": {},
   "outputs": [],
   "source": []
  },
  {
   "cell_type": "code",
   "execution_count": null,
   "metadata": {},
   "outputs": [],
   "source": []
  }
 ],
 "metadata": {
  "kernelspec": {
   "display_name": "FilmBot",
   "language": "python",
   "name": "python3"
  },
  "language_info": {
   "codemirror_mode": {
    "name": "ipython",
    "version": 3
   },
   "file_extension": ".py",
   "mimetype": "text/x-python",
   "name": "python",
   "nbconvert_exporter": "python",
   "pygments_lexer": "ipython3",
   "version": "3.12.2"
  }
 },
 "nbformat": 4,
 "nbformat_minor": 2
}
