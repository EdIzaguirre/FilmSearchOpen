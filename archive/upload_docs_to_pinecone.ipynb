{
 "cells": [
  {
   "cell_type": "markdown",
   "metadata": {},
   "source": [
    "# Imports"
   ]
  },
  {
   "cell_type": "code",
   "execution_count": 1,
   "metadata": {},
   "outputs": [
    {
     "data": {
      "text/plain": [
       "True"
      ]
     },
     "execution_count": 1,
     "metadata": {},
     "output_type": "execute_result"
    }
   ],
   "source": [
    "from langchain_community.document_loaders.csv_loader import CSVLoader\n",
    "from langchain_text_splitters import RecursiveCharacterTextSplitter\n",
    "from langchain_pinecone import PineconeVectorStore\n",
    "from langchain_openai import OpenAIEmbeddings\n",
    "from langchain_openai import ChatOpenAI\n",
    "from langchain.prompts import PromptTemplate\n",
    "from langchain_core.runnables import RunnablePassthrough\n",
    "from langchain_core.output_parsers import StrOutputParser\n",
    "from langchain_community.document_loaders import DirectoryLoader\n",
    "from langchain.indexes import SQLRecordManager, index\n",
    "from pinecone import Pinecone, PodSpec\n",
    "import os\n",
    "\n",
    "from dotenv import load_dotenv\n",
    "load_dotenv()"
   ]
  },
  {
   "cell_type": "markdown",
   "metadata": {},
   "source": [
    "# Loading Data"
   ]
  },
  {
   "cell_type": "code",
   "execution_count": 2,
   "metadata": {},
   "outputs": [
    {
     "name": "stderr",
     "output_type": "stream",
     "text": [
      "100%|██████████| 2/2 [00:00<00:00, 108.25it/s]"
     ]
    },
    {
     "name": "stdout",
     "output_type": "stream",
     "text": [
      "Title: Black Adam\n",
      "Runtime (minutes): 125\n",
      "Language: en\n",
      "Overview: Nearly 5,000 years after he was bestowed with the almighty powers of the Egyptian gods—and imprisoned just as quickly—Black Adam is freed from his earthly tomb, ready to unleash his unique form of justice on the modern world.\n",
      "Release Date: 2022-10-19\n",
      "Genre: Action, Adventure, Science Fiction\n",
      "Keyword: lightning, superhero, anti hero, based on comic, demon, superhero team, duringcreditsstinger, dc extended universe (dceu)\n",
      "Recommendation: Black Panther: Wakanda Forever, Avatar: The Way of Water, The Woman King, M3GAN, Troll, Thor: Love and Thunder, Glass Onion: A Knives Out Mystery, Terrifier 2, Smile, Avatar, Top Gun: Maverick, The Guardians of the Galaxy Holiday Special, Guillermo del Toro's Pinocchio, Puss in Boots: The Last Wish, Bullet Train, Violent Night, Spider-Man: No Way Home, Ant-Man and the Wasp: Quantumania, Shazam! Fury of the Gods, Jeepers Creepers: Reborn, Fall\n",
      "Cast: Dwayne Johnson, Bodhi Sabongui, Djimon Hounsou, Cameron Moir, Pierce Brosnan, Alex Parkinson, Odelya Halevi, Mike Senior, Joseph Gatt, Donny Carrington, Tre Ryan, A. Manuel Miranda, Marwan Kenzari, Noah Centineo, Regina Ting Chen, Natalie Burn, Jennifer Holland, Chaim Jeraffi, E. Lloyd Napier, Angel Rosario Jr., Christopher Matthew Cook, Viola Davis, Daniel Danca, Henry Cavill, Kiara Rashawn, Maurice T. Johnson, Henry Winkler, James Cusati-Moyer, Sarah Shahi, Uli Latukefu, Stephan Jones, Benjamin Patterson, Mo Amer, Jermaine Rivers, Kamen Casey, Yssa Mei Panganiban, Tonea Stewart, Meghna Nagarajan, Dennis Dawson, Ben Jenkin, Quintessa Swindell, Vince Canlas, Natasha Ellie, Jalon Christian, Raj Kala, Patrick Sabongui, Aldis Hodge, Sharon Gee, Philip Fornah, Sanna Erica, Tang Nguyen, Sekou Laidlow, Onye Eme-Akwari, Boone Platt, Derek Russo\n",
      "Crew: Chris Morley, Francesco Pepe, Joe Bucaro III, Duncan Shirah, Peter G. Adams, Andrea Ceccarelli, Leay Cangelosi, Darrin Mann, Rory Haines, Victor James Martinez, Sande Alessi, Davee Ramos-San Diego, Jim Steel, Joe Shuster, Tiffany McKitrick, Ben Warner, Henri Trinh, Derek Spears, Greg Teegarden, Björn Rehbein, Robert Aguirre, Francesco Vassora, Karen M. Murphy, Monique Hyman, Dan Wilken, Gerald D'Onofrio, John Kitching, Erdem Ogel, Kirsty Whalley, Scott La Rue, Mykhailo Slavov, Jeremy Hampton, Madison Landis, Nick Forman, Gildardo Tobon, Valentina Biffi, Matthew Dion, Joy Nguyen, Ryan S. Westphal, Nathan Gardner, John Hoskins, David Werntz, Tom Meyer, Spencer R. Williams, Shannon Cameron, Mathieu Vezina, Mike Stassi, Lyubomir Kirkov, Jennifer Hodges, Alexander T.H. Browne, Aaron Barlow, Stella Vaccaro, Gary Jamroz-Palma, Bradford Bell, Christopher Battaglia, Blade Ladish, John Lee, Zachary Kinney, Jeff Seelye, Michael Keller, Albert Whitemore, Kirill Kalitukha, Shayne Hartigan, Kevin Houlihan, Etienne Devillée, Martin Cicmanec, Erica Arvold, Jill Bogdanowicz, Paul Fedor, Emma Pelliciari, Joni Jacobson, C.C. Beck, Lorne Balfe, Rich Delia, Beau Flynn, Shari Ratliff, David Vyle Levy, Silvia Mahapatra, Kevin Brosseau, Manuel Plank-Jorge, Natasha Romanow, Sam Winkler, Barbara McDermott, Frank Piercy, Aaron Eaton, Yuri Bartoli, Krisztian Majdik, Donghoon Han, Mohamed Ghouse, Francesca Restelli, Alexandra Gallo, Adam Schlagman, Ronald J. Webb, Aaron Baudin, Rhianna Shaheen, Jacob Wan, Walter Hamada, John Rosploch, Greg Rementer, David An, Luca Nemolato, Marie-Eve Lecours, Jo Ann Cordero Belen, Nicole Auringer, Rohan Bansie, Dino Doane, Darla Wigley, Cheyenne A. Bell, Nilesh Chhadimali, Martin Charles, Mitch Osias, Ben Bigiel, Austin Beaulier, Imre Toke, Jazmyn Tanski, Ujwal W Dhankute, Gaëtan Borneuf, Anne Costa, Tony D'Aurio, Deokmun Jeong, Ray Lai, Brett Fahle, Adam Sztykiel, Abby Potts, Federico Bonato, James Seymour Brett, Miguel Victorio, Rachel Aguirre, Paul Story, Jack Nolan, Natalie Narin Yoo, Merten Tremer, Javier Lopez-Duprey, Jen Knight, Velmurugan Rajamani, Jarin Rossiter, Josh Millman, Don Rutherford, Ryan Dempsey, Scott T. Coppock, Ryan J. Pezdirc, Jacob Metcalf, James Milligan, Esmeralda Fernandez, Dave Neustadter, Joel Venti, Alessandra Restivo, Charlie Dicus, Claire Callway, Danny Reeves, Lisa Smedley, David Masson, Victor Van De Velde, Lawrence Sher, Al Watson, Brett C. Smith, Larry Dias, Gak Gyu Choi, Emad Khalili, Melissa Kennedy, Joseph Grundfast, Lachlan Tolley, Nico Duce, Unsun Song, Lindsay MacGowan, Evraam Soliman, Christian Scheurer, Emma Sparer, Steven Melton, Brandon Hines, Federico Sibella, Ron Schab, Hugo R.A. Morris, Dan Riker, Myles Asseter, Karl Rogovin, Erik Lehmann, Debby Ruby-Winsberg, Michael Shawn McCracken, Michael L. Sale, Deepika Mistri, D. Chris Smith, Kaylee Swisher, Heiðrún Tinna Haraldsdóttir, Duy Pham, Matthew Dravitzki, Vera Dementchouk, Tim Croshaw, Patrick Bacon, Aaron Sowd, James Gaczkowski, Scott Herbertson, Luis Martino, Aditya Ponguri, Vinay Sudhindran, Eric A. Lewy, Stephanie A. Hernandez, Bjørn Rabben, Bill Westenhofer, Fredrick Lyn, David Blanco Castillero, Alex Klotz, Robert Bock, Kevin Riepl, Guillaume Grimberghs, Taylor M. Potts, Vikas Ganer, Pol Villà Trilla, Roland Dobson, Matthew Bullock, Robert McKinnon, Jev Belyaev, Brett Ellis, Jason Oliver, Spencer Dinney, Roland Torda, Shreyas Gujrati, Matthew McDonald, Patcha Binginapalli, Tarn Greenlaw, Jerry Siegel, Kimberly Huston, Patricia Nedd, Sanjeev Kandulna, Roxanne Gross, Eric McLeod, Irenia Vail, Stian Dahlslett, Tanoai Reed, Daniel Soltis, Chris Radcliffe, Adrienne Wilson, Susan Strubel, Kelcey Fry, Nick Satriano, Allen Coulter, Jacob Curtis Miller, Randy Ruan, John Abraham Chempil, Bria Kinter, Tim Walston, Ando Johnson, Richard Bennett, Constantin von Zitzewitz, Joshua Tong, Jean-Michel Cristofaro, Arijit Chatterjee, Salvatore Salamone, Matthew W. Mungle, Caitlin Parker, Lisha Hocking, Laura Holeman, Pedram Goshtasbpour, Rob Hamby, Vivek Karmarkar, Kil Won Yu, Tosin Akinwoye, Kevin Gilbert, Day Ramphal, Amanda Cornell, Robert Brenner, Warren Manser, Lesly Cazares, Margo Smith, Erin Rose Kelly, Andrea Lorusso, Jack Kirby, Tomas Kalhous, Gabriele Motta, Robert Schajer, Greg ten Bosch, Yuyoung Lim, Gaia Bussolati, Margaret Hungerford, Gary DeLeone, Joanie Ming, Martin Gorbea Sanchez, Romain Besnard, Luigi Baggio, Shawn Broes, Amanda Sprunger, Truptesh Naik, Zachary Goodson, Heather Benson, Harry Brokensha, Stacy Horn, Dea Cantu, Max Hicks, Deborah Rutherford, Ralph Reinle, Robert Chapin, Jim Meyer, Davide Battiston, Matt Huish, Kristen Kadel, Kay Hoddy, Robert J. Hall, Euna Kho, Valentin Cottenye, Lindsay Tessier, Joseph Ramiro, Angel Carrasco, Kristina Maevskaya, Darby Faccinto, William Wright Anderson, Sarah Delucchi, Sarah Mays, Dwayne Johnson, Jonas Kirk, Chris DiPaola, Yan Weitlauff, Chris Diamantides, Emily Freund, Karina Nunes, Toby Emmerich, Dany Garcia, Gerardo Schiavone, Richard Brener, Maryna Goretti, Lersak Bunupuradah, Maxime Parent-Michaud, Alexandra Casey, Ankit Vajpayee, Thomas Sing Wai Lo, Jesse Forsey, Thomas Nittmann, Joel Harlow, Liciani Vargas, Bryan O. Watkins, Roman Weisgerber, Deborah La Mia Denaver, Zack Annesty, Kat Rodriguez, Carley Armstrong, Francesco Grisi, Cliff Welsh, Vincent Ren Haur Hsu, Donna Martin, Jason Sheriff, Carrie Carnevale, Jeff Bruneel, Freddie Poole, J. Bryan Holloway, Sam Balzer, Wonchan Song, Bill R. Dean, Jean-Louis Darville, Adam Tankell, Tonilee Marrone, Suzanne MacLennan, Tristan Brown, Ramiro Galan, Ryan Heck, Sébastien Jacob, Yasemin Hepguler, Marco Bordignon, Michael Porterfield, Gary Archer, Stewart Probert, Patty Connolly, Eric Sibley, Stephen A. Gall, Marlon Victor Bondoc, David Moreau, Tosh Elliott, Jalal Jemison, Andrew Hofman, Josh Sheppard, Robin Lamontagne, Shamus Baker, Kerem Ogan, Bill McCoy, Beat Frutiger, Cassie Russek, Shevina Valentina, Elisabetta Rocca, Andrea Onorato, Encho Nedevski, Mazena Puksto, Arielle DePace, Edoardo Compagnucci, Doug Spilatro, Matt Cordero, Lisieux Calandro, Megan Schmidt, Rohan Bediskar, Alex Berson, Jamison Rabbe, Carolina Wong, Virginia Berg, Gabrielle Garam You, Nicha Kumkeaw, Jose F. Garcia Pineda, Darryl Garcia Jr., Zach Kilpatrick, Amir Wahid Eleswy, Anthony Delacruz, Monika Peulic, Monika van Schellenbeck, Ramachari Murali, Peter Cobbin, Matt Vowles, Midian Crosby, Mike Hsu, Nikos Kalaitzidis, Jesse Turnbull, Anna Rane, Kevin Estey, Ben Campbell, Erik Omar, Colton Kirkegaard, Terri Douglas, Pier Lefebvre, Cederic Estevao, Chad Meire, Glen Hombrebueno, Suzanna Boykin, Kristina Krasteva, Joe Schiff, Frank Casaceli, Adam Endrodi, Jennifer Conroy, Gabe Hilfer, Jefrin Antony, Hanjoo Jeong, Stuart Michael Thomas, Aldo Martinez Calzadilla, Rogiero Fernández, Joshua Robertson, Allen Lee Williams III, Kym McCann, Adruitha Lee, Yan Morin-Dubuisson, Perry Goyen, Jack Chiu, Daniele DeMaio, Nick Chambers, Para Malden, Amani Durrani, Kin Yiu, Bill Parker, Brian Avery Galligan, Whit Norris, Hiromu Yoshida, Ryan E. Murphy, Guillem Rovira, Geoff Johns, Khizer Diwan, Philip Banks, Erick Ocampo, Paolo Forni, Antonio Mossucca, Pete Anthony, Yann Moalic, Erik Bergrin, Jeffrey Henderson, Khiew Jit Chun, Can Yesilyurt, Arda Uysal, Alex Nice, Peter Dudley, Tony Marioni, John Can Simsek, Sean Cushing, Bonnie Kanner, Rodrigue El Hajj, James Pollard, Khitish Shekhar Karua, Shane Christopher Wicklund, Jaume Collet-Serra, Fabrizio Fioretti, Kerry Herta, Ann Scibelli, Tom Ozanich, Tarun Behal, Gentry Davidson, Samuel Blouin, Daniel Labossiere, Dale Pretorius, Mike Meaker, Susan Lee, Kulbhushan Kale, Devin Ward, Corrina Roshea Bobb, Micah Loken, Darin Read, Vinay Krishan Rohilla, Jared Krichevsky, Anthony Vincent Papillo, William B. Lim, Robert Pik, Silvia Fusetti, Diego Perez, Mark Keever, Daniel Perez, John Lindstein, Ian Blewitt, Emil Simeonov, John Sheridan, Ryan Robert Howard, Sohrab Noshirvani, Justin O'Neal Miller, Alyson Dee Moore, Ryan Murphy, Chris Pan, William Groebe, Mari Lappalainen, Hiram Garcia, Ron Marelli, Jason Suhrke, Rob Meyers, Amy Wetzler, Carlos Oceguera, Yash S. Pathak, Diego Zura Puntaroni, Christina Bruce, Tim Parsons, Justin Strong, Patrice Poissant, Matthias Villemont, David Chow, Justin Trudeau, Haile Werntz, Paul Ozzimo, Siddharth Malviya, Nick Irving Allen, Charles Labbé, Sean Byrne, Knox White, William J. Shaw, Eloise Cameron-Smith, Kurt Swanson, Stephanie Gadsden, Aaron Cornwall, Daniela Medeiros, Daniel Enrique De Leon, J.D. Schwalm, Constanza Ortega, Erin Ochi, Rob Garlow, Chase Commins, Oscar Michell, Reetu Aggarwal, Robert Ratner, Bruce Tanis, Jonathan Burdeshaw, Prashant Raj, Peter Mercell, Lai Lok Chau, Youcef Bessaa, Maddalena Perfetti, Hailie Yang, Emily Hoi Ying Fung, Shermaine Toh, Skylar Gorrell, Akansha Bhagat, Riki LeCotey, Gabriela Pruszkowska, Kelly Bellini, Josy Capkun, Riccardo Zoccarato, Scott Sheldon, Richard F. Mays, Manthan Bhayani, Olivier Blanchet, David Hemphill, Bart Mueller, Fabricio de Vasconcellos Baessa Antonio, Walter Schneider, Nicholas Winkelmann, Ross Nakamura, Mark D. Spain, Christina Myal, Lia Malamo, Kevin Cerchiai, Matthew Wade Stokes, Kate Loftis, Rajneesh Bahukhandi, Pamela Souza, Harry Cohen\n",
      "Stream: Netflix, Max, Max Amazon Channel, Netflix basic with Ads\n",
      "Buy: Apple TV, Amazon Video, Google Play Movies, YouTube, Vudu, Microsoft Store, AMC on Demand\n",
      "Rent: Apple TV, Amazon Video, Google Play Movies, YouTube, Vudu, Microsoft Store, Spectrum On Demand\n"
     ]
    },
    {
     "name": "stderr",
     "output_type": "stream",
     "text": [
      "\n"
     ]
    }
   ],
   "source": [
    "loader = DirectoryLoader(\n",
    "    path=\"./data\", \n",
    "    glob=\"*.csv\", \n",
    "    loader_cls=CSVLoader,\n",
    "    show_progress=True)\n",
    "\n",
    "docs = loader.load()\n",
    "\n",
    "print(docs[20].page_content)"
   ]
  },
  {
   "cell_type": "markdown",
   "metadata": {},
   "source": [
    "# Splitting Data"
   ]
  },
  {
   "cell_type": "code",
   "execution_count": 3,
   "metadata": {},
   "outputs": [],
   "source": [
    "text_splitter = RecursiveCharacterTextSplitter(\n",
    "    chunk_size=1000, chunk_overlap=200)\n",
    "splits = text_splitter.split_documents(docs)"
   ]
  },
  {
   "cell_type": "code",
   "execution_count": 4,
   "metadata": {},
   "outputs": [
    {
     "name": "stdout",
     "output_type": "stream",
     "text": [
      "Cast: Ratna Pathak Shah, Habib Al Aidroos, Prakash Raj, Jaimini Pathak, Kiran Kumar, Shahnawaz Bhatt, Babrak Akbari, Serena Walia, Ranjit Punia, John Abraham, Jacqueline Fernandez, Elham Ehsas, Rakul Preet Singh, Rajit Kapoor, Mehroos Mir, Mohd Talib, Nimish Desai\n",
      "Crew: Kuldeep Yadav, Akshay Jayantilal Gada, Nakul Chugh, Soumik Mukherjee, Yogendra Mogre, Amritpal Singh, Minnakshi Das, Surbhi Yadav, Devanshu Asthana, Vaibhav Vishant, Shashwat Sachdev, John Abraham, Garima Mathur, Franz Spilhaus, Kumaar, Vijay Ganguly, Shreya Jain, Daniel Hansen, Jayantilal Gada, Jubin Nautiyal, Dhaval Jayantilal Gada, Aarif Sheikh, Bishwadeep Dipak Chatterjee, Chavi Sirohi, P. S. Vinod, Rohit Chaturvedi, Vishal Mishra, Girish Nakod, Mohd Talib, Mohd Amin Khatib, Vishal Kapoor, Ajay Kapoor, Will Humphris, Ken Metzker, Lakshya Raj Anand, Sumit Batheja\n",
      "Stream: \n",
      "Buy: \n",
      "Rent:\n"
     ]
    }
   ],
   "source": [
    "print(splits[9].page_content)"
   ]
  },
  {
   "cell_type": "markdown",
   "metadata": {},
   "source": [
    "# Creating Embeddings and Uploading to Pinecone"
   ]
  },
  {
   "cell_type": "code",
   "execution_count": 5,
   "metadata": {},
   "outputs": [
    {
     "name": "stdout",
     "output_type": "stream",
     "text": [
      "{'dimension': 1536,\n",
      " 'index_fullness': 0.00911,\n",
      " 'namespaces': {'': {'vector_count': 911}},\n",
      " 'total_vector_count': 911}\n"
     ]
    }
   ],
   "source": [
    "index_name = \"film-bot-index\"\n",
    "\n",
    "# Create empty index\n",
    "PINECONE_KEY, PINECONE_INDEX_NAME = os.getenv(\n",
    "    'PINECONE_API_KEY'), os.getenv('PINECONE_INDEX_NAME')\n",
    "\n",
    "pc = Pinecone(api_key=PINECONE_KEY)\n",
    "\n",
    "# Uncomment if index is not created already\n",
    "# pc.create_index(\n",
    "#     name=\"film-bot-index\",\n",
    "#     dimension=1536,\n",
    "#     metric=\"cosine\",\n",
    "#     spec=PodSpec(\n",
    "#         environment=\"gcp-starter\"\n",
    "#     )\n",
    "# )\n",
    "\n",
    "# Target index and check status\n",
    "pc_index = pc.Index(index_name)\n",
    "print(pc_index.describe_index_stats())\n",
    "\n",
    "embeddings = OpenAIEmbeddings(model='text-embedding-ada-002')\n",
    "\n",
    "vectorstore = PineconeVectorStore(\n",
    "    pc_index, embeddings\n",
    ")\n",
    "\n",
    "# Create record manager\n",
    "namespace = f\"pinecone/{index_name}\"\n",
    "record_manager = SQLRecordManager(\n",
    "    namespace, db_url=\"sqlite:///record_manager_cache.sql\"\n",
    ")\n",
    "\n",
    "record_manager.create_schema()"
   ]
  },
  {
   "cell_type": "code",
   "execution_count": 7,
   "metadata": {},
   "outputs": [
    {
     "data": {
      "text/plain": [
       "{'num_added': 919, 'num_updated': 0, 'num_skipped': 0, 'num_deleted': 0}"
      ]
     },
     "execution_count": 7,
     "metadata": {},
     "output_type": "execute_result"
    }
   ],
   "source": [
    "def _clear():\n",
    "    \"\"\"\n",
    "    Hacky helper method to clear content.\n",
    "    \"\"\"\n",
    "    index([], record_manager, vectorstore,\n",
    "          cleanup=\"full\", source_id_key=\"source\")\n",
    "\n",
    "# Uncomment this line if you want to clear the Pinecone vectorstore\n",
    "_clear()\n",
    "\n",
    "index(splits, record_manager, vectorstore,\n",
    "      cleanup=\"full\", source_id_key=\"source\")"
   ]
  },
  {
   "cell_type": "code",
   "execution_count": 8,
   "metadata": {},
   "outputs": [
    {
     "name": "stdout",
     "output_type": "stream",
     "text": [
      "Keyword: hero, superhero, space travel, based on comic, sequel, teenage girl, aftercreditsstinger, duringcreditsstinger, marvel cinematic universe (mcu), space adventure\n",
      "Recommendation: The Hunger Games: The Ballad of Songbirds & Snakes, Wonka, Aquaman and the Lost Kingdom, The Killer, Napoleon, Five Nights at Freddy's, The Creator, Wish, Oppenheimer, Killers of the Flower Moon, Migration, Leave the World Behind, A Haunting in Venice, Captain Marvel, Barbie, Rebel Moon - Part One: A Child of Fire, The Equalizer 3, Saltburn, Lift, Elemental, Role Play\n"
     ]
    }
   ],
   "source": [
    "query = \"Movies based on novels or books.\"\n",
    "docs = vectorstore.similarity_search(query)\n",
    "print(docs[0].page_content)"
   ]
  },
  {
   "cell_type": "markdown",
   "metadata": {},
   "source": [
    "# Creating a Retriever"
   ]
  },
  {
   "cell_type": "code",
   "execution_count": 9,
   "metadata": {},
   "outputs": [],
   "source": [
    "retriever = vectorstore.as_retriever(\n",
    "    search_type=\"similarity\", search_kwargs={\"k\": 6})"
   ]
  },
  {
   "cell_type": "code",
   "execution_count": 10,
   "metadata": {},
   "outputs": [],
   "source": [
    "retrieved_docs = retriever.invoke(\n",
    "    \"What are some films with about a person who becomes a tyrannical president of Panem?\")"
   ]
  },
  {
   "cell_type": "code",
   "execution_count": 11,
   "metadata": {},
   "outputs": [
    {
     "data": {
      "text/plain": [
       "6"
      ]
     },
     "execution_count": 11,
     "metadata": {},
     "output_type": "execute_result"
    }
   ],
   "source": [
    "len(retrieved_docs)"
   ]
  },
  {
   "cell_type": "code",
   "execution_count": 12,
   "metadata": {},
   "outputs": [
    {
     "name": "stdout",
     "output_type": "stream",
     "text": [
      "Title: The Hunger Games: The Ballad of Songbirds & Snakes\n",
      "Runtime (minutes): 157\n",
      "Language: en\n",
      "Overview: 64 years before he becomes the tyrannical president of Panem, Coriolanus Snow sees a chance for a change in fortunes when he mentors Lucy Gray Baird, the female tribute from District 12.\n",
      "Release Date: 2023-11-15\n",
      "Genre: Drama, Science Fiction, Action\n",
      "Keyword: daughter, based on novel or book, arena, fight, mentor, dystopia, riot, exploration, president, prequel, survival, murder, snow, creature, battle, fight to the death, young adult, origin story, based on young adult novel, death game, teenager\n",
      "Recommendation: Aquaman and the Lost Kingdom, Napoleon, The Marvels, Wonka, The Hunger Games, Rebel Moon - Part One: A Child of Fire, The Family Plan, Oppenheimer, Thanksgiving, Killers of the Flower Moon, Five Nights at Freddy's, Saltburn, The Creator, There's Still Tomorrow, Silent Night, Barbie, Leave the World Behind, Wish, The Hunger Games: Mockingjay - Part 1, Family Switch, Leo\n"
     ]
    }
   ],
   "source": [
    "print(retrieved_docs[0].page_content)"
   ]
  },
  {
   "cell_type": "markdown",
   "metadata": {},
   "source": [
    "# Creating an LLM with Retriever"
   ]
  },
  {
   "cell_type": "code",
   "execution_count": 17,
   "metadata": {},
   "outputs": [
    {
     "name": "stderr",
     "output_type": "stream",
     "text": [
      "/Users/ed/miniconda3/envs/FilmBot/lib/python3.12/site-packages/langchain_core/_api/deprecation.py:117: LangChainDeprecationWarning: The class `langchain_community.llms.huggingface_hub.HuggingFaceHub` was deprecated in langchain-community 0.0.21 and will be removed in 0.2.0. Use HuggingFaceEndpoint instead.\n",
      "  warn_deprecated(\n"
     ]
    }
   ],
   "source": [
    "from langchain_community.chat_models.huggingface import ChatHuggingFace\n",
    "from langchain_community.llms import HuggingFaceHub\n",
    "from huggingface_hub.hf_api import HfFolder \n",
    "\n",
    "HfFolder.save_token(os.getenv('HUGGINGFACEHUB_API_TOKEN'))\n",
    "\n",
    "REPO_ID = \"HuggingFaceH4/zephyr-7b-beta\"\n",
    "\n",
    "llm = HuggingFaceHub(\n",
    "    repo_id=REPO_ID,\n",
    "    task=\"text-generation\",\n",
    "    model_kwargs={\n",
    "        \"max_new_tokens\": 512,\n",
    "        \"top_k\": 30,\n",
    "        \"temperature\": 0.1,\n",
    "        \"repetition_penalty\": 1.03,\n",
    "    },\n",
    ")\n",
    "\n",
    "# chat_model = ChatHuggingFace(llm=llm)\n",
    "chat_model = ChatOpenAI(model_name=\"gpt-3.5-turbo-0125\", temperature=0.5)\n",
    "\n",
    "prompt_template = PromptTemplate.from_template(\n",
    "    \"\"\"\n",
    "    You are an expert on films. Your goal is to recommend films to users based on their\n",
    "    question and the retrieved context. If you don't know have a recommendation, just say that you don't have one. \n",
    "    Format your film recommendations in a bullet point list. Always include the title of the film you are recommending,\n",
    "    and always provide a justification for why you are recommending a particular film. You should recommend no more than\n",
    "    five films. If the user asks for film recommendations based on runtime, provide the runtime length in minutes in your\n",
    "    response. Only recommend films that are given to you in the context, do not recommend any other films.\n",
    "    \n",
    "    The documents that are provided will have the following format:\n",
    "\n",
    "    ### FORMAT ###\n",
    "    Title: [Title of film]\n",
    "    Runtime: [Runtime of film] minutes\n",
    "    Language: [Language of film in ISO 639-1 language code]\n",
    "    Overview: [Overview of film]\n",
    "    Release Date: [Release data of film in format YYYY-MM-DD]\n",
    "    Genre: [Genre of film, a comma separated list]\n",
    "    Keyword: [Keywords describing the film, a comma separated list]\n",
    "    Recommendation: [Recommendations for other films based on the current film, a comma separated list]\n",
    "    Cast: [Cast of film, a comma separated list]\n",
    "    Crew: [Crew of film, a comma separated list]\n",
    "    Stream: [Streaming provider to watch film, a comma separated list]\n",
    "    Buy: [Provider to buy film, a comma separated list]\n",
    "    Rent: [Provider to rent film, a comma separated list]\n",
    "    ### FORMAT ###\n",
    "\n",
    "    Question: {question} \n",
    "\n",
    "    Context: {context} \n",
    "\n",
    "    Answer:\n",
    "\n",
    "    \"\"\"\n",
    ")\n",
    "\n",
    "def format_docs(docs):\n",
    "    return \"\\n\\n\".join(doc.page_content for doc in docs)\n",
    "\n",
    "rag_chain = (\n",
    "    {\"context\": retriever | format_docs, \"question\": RunnablePassthrough()}\n",
    "    | prompt_template\n",
    "    | chat_model\n",
    "    | StrOutputParser()\n",
    ")"
   ]
  },
  {
   "cell_type": "code",
   "execution_count": 37,
   "metadata": {},
   "outputs": [
    {
     "name": "stdout",
     "output_type": "stream",
     "text": [
      "- Blue Beetle: This film is recommended because it shares the genre of adventure with Barbie and also features a protagonist with special abilities.\n",
      "- Spider-Man: Across the Spider-Verse: This film is recommended because it shares the genre of adventure with Barbie and also features a superhero protagonist.\n",
      "- Talk to Me: This film is recommended because it shares the genre of comedy with Barbie and also explores themes of communication and relationships.\n",
      "- Gran Turismo: This film is recommended because it shares the genre of comedy with Barbie and also features a story centered around cars and racing.\n",
      "- Indiana Jones and the Dial of Destiny: This film is recommended because it shares the genre of adventure with Barbie and also features a thrilling and action-packed story."
     ]
    }
   ],
   "source": [
    "for chunk in rag_chain.stream(\"Recommend some films similar to Barbie.\"):\n",
    "    print(chunk, end=\"\", flush=True)"
   ]
  },
  {
   "cell_type": "markdown",
   "metadata": {},
   "source": [
    "# Creating an Agent with Wiki + RAG"
   ]
  },
  {
   "cell_type": "code",
   "execution_count": 1,
   "metadata": {},
   "outputs": [
    {
     "ename": "NameError",
     "evalue": "name 'retriever' is not defined",
     "output_type": "error",
     "traceback": [
      "\u001b[0;31m---------------------------------------------------------------------------\u001b[0m",
      "\u001b[0;31mNameError\u001b[0m                                 Traceback (most recent call last)",
      "Cell \u001b[0;32mIn[1], line 14\u001b[0m\n\u001b[1;32m     10\u001b[0m \u001b[38;5;28;01mfrom\u001b[39;00m \u001b[38;5;21;01mlangchain_core\u001b[39;00m\u001b[38;5;21;01m.\u001b[39;00m\u001b[38;5;21;01mtools\u001b[39;00m \u001b[38;5;28;01mimport\u001b[39;00m BaseTool\n\u001b[1;32m     12\u001b[0m \u001b[38;5;66;03m# Create tool from retriever\u001b[39;00m\n\u001b[1;32m     13\u001b[0m retriever_tool \u001b[38;5;241m=\u001b[39m create_retriever_tool(\n\u001b[0;32m---> 14\u001b[0m     \u001b[43mretriever\u001b[49m,\n\u001b[1;32m     15\u001b[0m     \u001b[38;5;124m\"\u001b[39m\u001b[38;5;124mmovie_data\u001b[39m\u001b[38;5;124m\"\u001b[39m,\n\u001b[1;32m     16\u001b[0m \u001b[38;5;250m    \u001b[39m\u001b[38;5;124;03m\"\"\"\u001b[39;00m\n\u001b[1;32m     17\u001b[0m \u001b[38;5;124;03m    Search for basic information regarding films. Information \u001b[39;00m\n\u001b[1;32m     18\u001b[0m \u001b[38;5;124;03m    includes: title, release date, original language, genre, \u001b[39;00m\n\u001b[1;32m     19\u001b[0m \u001b[38;5;124;03m    recommendations, keywords describing the film, the cast,\u001b[39;00m\n\u001b[1;32m     20\u001b[0m \u001b[38;5;124;03m    crew, and where to stream, rent, or buy the film. If you\u001b[39;00m\n\u001b[1;32m     21\u001b[0m \u001b[38;5;124;03m    need any of this information, use this tool!\u001b[39;00m\n\u001b[1;32m     22\u001b[0m \u001b[38;5;124;03m    \"\"\"\u001b[39;00m\n\u001b[1;32m     23\u001b[0m )\n\u001b[1;32m     25\u001b[0m \u001b[38;5;28;01mclass\u001b[39;00m \u001b[38;5;21;01mCustomWikipediaQueryRun\u001b[39;00m(BaseTool):\n\u001b[1;32m     26\u001b[0m \u001b[38;5;250m    \u001b[39m\u001b[38;5;124;03m\"\"\"Tool that searches the Wikipedia API.\"\"\"\u001b[39;00m\n",
      "\u001b[0;31mNameError\u001b[0m: name 'retriever' is not defined"
     ]
    }
   ],
   "source": [
    "from typing import Optional\n",
    "from langchain_core.callbacks import CallbackManagerForToolRun\n",
    "from langchain.agents import AgentExecutor\n",
    "from langchain.tools import WikipediaQueryRun\n",
    "from langchain_community.utilities import WikipediaAPIWrapper\n",
    "from langchain.tools.retriever import create_retriever_tool\n",
    "from langchain.agents import create_openai_functions_agent, create_openai_tools_agent\n",
    "from langchain_core.prompts import ChatPromptTemplate\n",
    "from langchain.prompts import HumanMessagePromptTemplate, MessagesPlaceholder\n",
    "from langchain_core.tools import BaseTool\n",
    "\n",
    "# Create tool from retriever\n",
    "retriever_tool = create_retriever_tool(\n",
    "    retriever,\n",
    "    \"movie_data\",\n",
    "    \"\"\"\n",
    "    Search for basic information regarding films. Information \n",
    "    includes: title, release date, original language, genre, \n",
    "    recommendations, keywords describing the film, the cast,\n",
    "    crew, and where to stream, rent, or buy the film. If you\n",
    "    need any of this information, use this tool!\n",
    "    \"\"\"\n",
    ")\n",
    "\n",
    "class CustomWikipediaQueryRun(BaseTool):\n",
    "    \"\"\"Tool that searches the Wikipedia API.\"\"\"\n",
    "\n",
    "    name: str = \"wikipedia\"\n",
    "    description: str = (\n",
    "        \"\"\"\n",
    "        A wrapper around Wikipedia. \n",
    "        Useful for when you need to answer general questions about \n",
    "        people, places, companies, facts, historical events, or other subjects. \n",
    "        Input should be a search query.\n",
    "        \"\"\"\n",
    "\n",
    "    )\n",
    "    api_wrapper: WikipediaAPIWrapper\n",
    "\n",
    "    def _run(\n",
    "        self,\n",
    "        query: str,\n",
    "        run_manager: Optional[CallbackManagerForToolRun] = None,\n",
    "    ) -> str:\n",
    "        \"\"\"Use the Wikipedia tool.\"\"\"\n",
    "        return self.api_wrapper.run(query)\n",
    "    \n",
    "\n",
    "# Create wikipedia tool\n",
    "wikipedia_tool = CustomWikipediaQueryRun(api_wrapper=WikipediaAPIWrapper())\n",
    "tools = [retriever_tool, wikipedia_tool]\n",
    "\n",
    "prompt_template = ChatPromptTemplate.from_messages(\n",
    "    [\n",
    "        (\n",
    "            'system',\n",
    "            \"\"\"\n",
    "            You are an expert on films. Your goal is to recommend films to users based on their question and the retrieved context. \n",
    "            If you don't know have a recommendation, just say that you don't have one. Format your film recommendations in a bullet \n",
    "            point list. Always include the title of the film you are recommending, and always provide a justification for why you are \n",
    "            recommending a particular film. Your justification should be at least three-four sentences per film. You should recommend no more \n",
    "            than five films. If the user asks for film recommendations based on runtime, provide the runtime length in minutes in your response. \n",
    "            \"\"\"\n",
    "            ),\n",
    "        MessagesPlaceholder(variable_name='chat_history', optional=True),\n",
    "        HumanMessagePromptTemplate(prompt=PromptTemplate(\n",
    "            input_variables=['input'], template='{input}')),\n",
    "        MessagesPlaceholder(variable_name=\"agent_scratchpad\"),\n",
    "    ]\n",
    ")\n",
    "\n",
    "agent = create_openai_functions_agent(chat_model, tools, prompt_template)\n",
    "\n",
    "agent_executor = AgentExecutor(agent=agent, tools=tools, verbose=True)"
   ]
  },
  {
   "cell_type": "code",
   "execution_count": null,
   "metadata": {},
   "outputs": [
    {
     "name": "stdout",
     "output_type": "stream",
     "text": [
      "\n",
      "\n",
      "\u001b[1m> Entering new AgentExecutor chain...\u001b[0m\n",
      "\u001b[32;1m\u001b[1;3m\n",
      "Invoking: `movie_data` with `{'query': 'Japanese science fiction films after March 2022'}`\n",
      "\n",
      "\n",
      "\u001b[0m\u001b[36;1m\u001b[1;3mTitle: Warriors of Future\n",
      "Runtime (minutes): 101\n",
      "Language: zh\n",
      "Overview: When a meteor carrying a destructive plant strikes the world, a suicide squad is given hours to save their post-apocalyptic city from total collapse.\n",
      "Release Date: 2022-08-05\n",
      "Genre: Drama, Action, Science Fiction\n",
      "Keyword: alien life-form, meteorite\n",
      "Recommendation: My Name Is Vendetta, Troll, Emancipation, Guillermo del Toro's Pinocchio, Puss in Boots: The Last Wish, Black Adam, Bullet Train, Shazam! Fury of the Gods, The Woman King, Hidden Figures, Slumberland, Scrooge: A Christmas Carol, The Whale, Oppenheimer, Top Gun: Maverick, Spider-Man: Across the Spider-Verse, Glass Onion: A Knives Out Mystery, Doctor Strange in the Multiverse of Madness, Creed III, Coco, Eternals\n",
      "\n",
      "Title: Godzilla Minus One\n",
      "Runtime (minutes): 125\n",
      "Language: ja\n",
      "Overview: Postwar Japan is at its lowest point when a new crisis emerges in the form of a giant monster, baptized in the horrific power of the atomic bomb.\n",
      "Release Date: 2023-11-03\n",
      "Genre: Science Fiction, Horror, Action\n",
      "Keyword: monster, loss of loved one, giant monster, kamikaze, duty, atomic bomb test, radioactivity, naval combat, reboot, kaiju, duringcreditsstinger, post war japan, 1940s, naval battle, naval battleship, found family, godzilla, war orphan, survivor guilt, tokusatsu\n",
      "Recommendation: Poor Things, Leave the World Behind, The Boy and the Heron, Shin Godzilla, Wonka, Saltburn, Rebel Moon - Part One: A Child of Fire, Aquaman and the Lost Kingdom, Napoleon, Barbie, Top Gun: Maverick, Spider-Man: Across the Spider-Verse, The Creator, John Wick: Chapter 4, Totally Killer, Ferrari, The Marvels, The Family Plan, Past Lives, Godzilla: King of the Monsters, Freelance\n",
      "\n",
      "Release Date: 2022-08-03\n",
      "Genre: Action, Comedy, Thriller\n",
      "Keyword: mission, japan, assassin, based on novel or book, train, luck, deadly snake, duringcreditsstinger, one location, 子弹列车, ridiculous\n",
      "Recommendation: Thor: Love and Thunder, Nope, Top Gun: Maverick, Glass Onion: A Knives Out Mystery, Prey, Avatar: The Way of Water, Black Adam, Everything Everywhere All at Once, The Gray Man, Elvis, Orphan: First Kill, Don't Worry Darling, Doctor Strange in the Multiverse of Madness, Black Panther: Wakanda Forever, The Menu, Fall, The Lost City, Hocus Pocus 2, The Batman, Ant-Man and the Wasp: Quantumania, Minions: The Rise of Gru\n",
      "\n",
      "Cast: Arisa Nakano, Sayuri Ishikawa, Hiroto Oshita, Tamae Ando, Koji Yakusho, Daigo Matsui, Atsushi Fukazawa, Nari Saitô, Reina, Aki Kobayashi, Long Mizuma, Tomokazu Miura, Miyako Tanaka, Isao Matsui, Taijirō Tamura, Tateto Serizawa, Makiko Okamoto, Aoi Yamada, Inuko Inuyama, Tomoyuki Shibata, Nijika Tonouchi, Yumi Asou, Tokio Emoto, Yuriko Kawasaki, Shunsuke Miura, Nao Takahashi, Mijika Nagai, Yasushi Okuwa, Naoko Ken, Morio Agata, Aoi Iwasaki, Gan Furukawa, Hairi Katagiri, Motomi Makiguchi, Bunmei Harada, Masahiro Koumoto, Min Tanaka, Yoneko Matsukane, Kisuke Shimazaki, Soraji Shibuya, Aoi Yoshida, Morooka Moro\n",
      "\n",
      "Release Date: 2022-10-22\n",
      "Genre: Animation, Action, Fantasy, Science Fiction\n",
      "Keyword: monster, virtual reality, fantasy world, anime, mmorpg, virtual world\n",
      "Recommendation: Sword Art Online the Movie – Progressive – Aria of a Starless Night, Black Clover: Sword of the Wizard King, Sword Art Online: The Movie – Ordinal Scale, The Flash, Demon Slayer: Kimetsu no Yaiba - Asakusa Arc, Shooting Stars, Five Nights at Freddy's, Transformers: Rise of the Beasts, Rebel Moon - Part One: A Child of Fire, Fast X, The Three Musketeers: D'Artagnan, The Croods: A New Age, Pirates Down the Street II: The Ninjas from Across, Coco, The Little Mermaid, Saw X, That Time I Got Reincarnated as a Slime the Movie: Scarlet Bond, Haunted Mansion, The Last: Naruto the Movie, Joy Ride, Mother's Day\n",
      "\n",
      "Zheng Junjie, Hitoshi Fujima, Yoshinobu Ando, Takahiro Kishida, Ai Kimura, Le Hoang Vu, Kazuto Onoue, Naoaki Hojo, Tetsuro Moronuki, Kazuya Tasaki, Kento Kida, Naoki Kusumoto, Shoma Miyazawa, Hong Quan, Kuri-san, Kimihito Sekido, Yuichi Aoki, Shin Tosaka, Hiroaki Motoigi, Satoshi Kawano, Ayu Tanaka, Junichi Takaoka, Atsushi Hoshiko, Anna Hashimoto, Satoshi Shimizu, Ayumi Ono, Maki Ueda, Go Kurosaki, Shinichi Takahashi, Shinya Kato, Yoshitaka Tao, Tomoya Kanehara, Ayumi Sato, Teruyo Kato, Keiichi Sawa, Shunsuke Masuda\u001b[0m\u001b[32;1m\u001b[1;3mHere are some Japanese language science fiction films made after March 2022 that I recommend:\n",
      "\n",
      "- **Warriors of Future**\n",
      "  - **Runtime:** 101 minutes\n",
      "  - **Justification:** \"Warriors of Future\" is a Japanese science fiction film that offers a thrilling post-apocalyptic storyline with a unique twist involving a destructive plant from a meteor. The film combines elements of drama, action, and science fiction, providing an engaging and visually stunning cinematic experience for fans of the genre.\n",
      "\n",
      "- **Godzilla Minus One**\n",
      "  - **Runtime:** 125 minutes\n",
      "  - **Justification:** \"Godzilla Minus One\" is a Japanese science fiction and horror film that delves into postwar Japan's struggles with a new crisis in the form of a giant monster. The film explores themes of loss, survival, and the impact of the atomic bomb, making it a compelling watch for those interested in thought-provoking science fiction narratives.\n",
      "\n",
      "- **Untitled Japanese Action Comedy Thriller**\n",
      "  - **Justification:** While specific details about this film are not provided, Japanese action comedies often offer a unique blend of humor, suspense, and thrilling action sequences. If you enjoy fast-paced and entertaining movies that keep you on the edge of your seat, this film might be a great choice for a fun movie night.\n",
      "\n",
      "- **Untitled Japanese Animation Fantasy Science Fiction Film**\n",
      "  - **Justification:** Animated Japanese films in the science fiction and fantasy genres often showcase imaginative storytelling, stunning visuals, and captivating worlds. If you appreciate animated films that transport you to fantastical realms and explore innovative concepts, this film could be a delightful choice for an immersive cinematic experience.\u001b[0m\n",
      "\n",
      "\u001b[1m> Finished chain.\u001b[0m\n"
     ]
    },
    {
     "data": {
      "text/plain": [
       "{'input': 'Recommend me a list of japanese language films in the science fiction genre made after March 2022.',\n",
       " 'output': 'Here are some Japanese language science fiction films made after March 2022 that I recommend:\\n\\n- **Warriors of Future**\\n  - **Runtime:** 101 minutes\\n  - **Justification:** \"Warriors of Future\" is a Japanese science fiction film that offers a thrilling post-apocalyptic storyline with a unique twist involving a destructive plant from a meteor. The film combines elements of drama, action, and science fiction, providing an engaging and visually stunning cinematic experience for fans of the genre.\\n\\n- **Godzilla Minus One**\\n  - **Runtime:** 125 minutes\\n  - **Justification:** \"Godzilla Minus One\" is a Japanese science fiction and horror film that delves into postwar Japan\\'s struggles with a new crisis in the form of a giant monster. The film explores themes of loss, survival, and the impact of the atomic bomb, making it a compelling watch for those interested in thought-provoking science fiction narratives.\\n\\n- **Untitled Japanese Action Comedy Thriller**\\n  - **Justification:** While specific details about this film are not provided, Japanese action comedies often offer a unique blend of humor, suspense, and thrilling action sequences. If you enjoy fast-paced and entertaining movies that keep you on the edge of your seat, this film might be a great choice for a fun movie night.\\n\\n- **Untitled Japanese Animation Fantasy Science Fiction Film**\\n  - **Justification:** Animated Japanese films in the science fiction and fantasy genres often showcase imaginative storytelling, stunning visuals, and captivating worlds. If you appreciate animated films that transport you to fantastical realms and explore innovative concepts, this film could be a delightful choice for an immersive cinematic experience.'}"
      ]
     },
     "execution_count": 41,
     "metadata": {},
     "output_type": "execute_result"
    }
   ],
   "source": [
    "agent_executor.invoke(\n",
    "    {\"input\": \"Recommend me a list of japanese language films in the science fiction genre made after March 2022.\"})"
   ]
  },
  {
   "cell_type": "markdown",
   "metadata": {},
   "source": [
    "# Using DataFrame Agent"
   ]
  },
  {
   "cell_type": "code",
   "execution_count": 19,
   "metadata": {},
   "outputs": [
    {
     "data": {
      "text/html": [
       "<div>\n",
       "<style scoped>\n",
       "    .dataframe tbody tr th:only-of-type {\n",
       "        vertical-align: middle;\n",
       "    }\n",
       "\n",
       "    .dataframe tbody tr th {\n",
       "        vertical-align: top;\n",
       "    }\n",
       "\n",
       "    .dataframe thead th {\n",
       "        text-align: right;\n",
       "    }\n",
       "</style>\n",
       "<table border=\"1\" class=\"dataframe\">\n",
       "  <thead>\n",
       "    <tr style=\"text-align: right;\">\n",
       "      <th></th>\n",
       "      <th>Title</th>\n",
       "      <th>Runtime (minutes)</th>\n",
       "      <th>Language</th>\n",
       "      <th>Overview</th>\n",
       "      <th>Release Date</th>\n",
       "      <th>Genre</th>\n",
       "      <th>Keyword</th>\n",
       "      <th>Recommendation</th>\n",
       "      <th>Cast</th>\n",
       "      <th>Crew</th>\n",
       "      <th>Stream</th>\n",
       "      <th>Buy</th>\n",
       "      <th>Rent</th>\n",
       "    </tr>\n",
       "  </thead>\n",
       "  <tbody>\n",
       "    <tr>\n",
       "      <th>0</th>\n",
       "      <td>The OctoGames</td>\n",
       "      <td>88</td>\n",
       "      <td>en</td>\n",
       "      <td>Eight contestants compete in eight deadly, cla...</td>\n",
       "      <td>2022-10-07</td>\n",
       "      <td>Thriller, Action, Horror</td>\n",
       "      <td>遊戲, 挑戰極限, 組團打怪</td>\n",
       "      <td>Patriots Time, Oppenheimer, The Boy and the He...</td>\n",
       "      <td>Henry Haggard, Sally Harvey Anderson, Claire P...</td>\n",
       "      <td>Galen Christy, Aaron Mirtes, Dylan A. Young, B...</td>\n",
       "      <td>NaN</td>\n",
       "      <td>Amazon Video, Google Play Movies, YouTube, Vud...</td>\n",
       "      <td>Amazon Video, Google Play Movies, YouTube, Vud...</td>\n",
       "    </tr>\n",
       "    <tr>\n",
       "      <th>1</th>\n",
       "      <td>The Voyagers</td>\n",
       "      <td>108</td>\n",
       "      <td>it</td>\n",
       "      <td>Time jump to 1939 with teenager Max and his fr...</td>\n",
       "      <td>2022-11-21</td>\n",
       "      <td>Fantasy, Adventure, TV Movie</td>\n",
       "      <td>time travel, zeitreise</td>\n",
       "      <td>Talk to Me, Jurassic World, Il mammone, Enemy ...</td>\n",
       "      <td>Gianmarco Saurino, Federico Tocci, Matteo Schi...</td>\n",
       "      <td>Michele Braga, Matteo Rovere, Gabriele Scarfon...</td>\n",
       "      <td>NaN</td>\n",
       "      <td>NaN</td>\n",
       "      <td>NaN</td>\n",
       "    </tr>\n",
       "    <tr>\n",
       "      <th>2</th>\n",
       "      <td>Agent Game</td>\n",
       "      <td>90</td>\n",
       "      <td>en</td>\n",
       "      <td>Harris, a CIA interrogator at an Agency black ...</td>\n",
       "      <td>2022-04-08</td>\n",
       "      <td>Action, Thriller</td>\n",
       "      <td>investigation, murder, betrayal, conspiracy, g...</td>\n",
       "      <td>All the Old Knives, Avatar: The Way of Water, ...</td>\n",
       "      <td>Gabby Kono, Adan Canto, Rhys Coiro, Annie Ilon...</td>\n",
       "      <td>Edwin Cude, Jan Rey, Joshua Z. Timmerman, Eric...</td>\n",
       "      <td>Showtime Apple TV Channel</td>\n",
       "      <td>Apple TV, Amazon Video, Google Play Movies, Yo...</td>\n",
       "      <td>Apple TV, Amazon Video, Google Play Movies, Yo...</td>\n",
       "    </tr>\n",
       "    <tr>\n",
       "      <th>3</th>\n",
       "      <td>Attack</td>\n",
       "      <td>123</td>\n",
       "      <td>hi</td>\n",
       "      <td>With the Parliament under siege, India’s first...</td>\n",
       "      <td>2022-04-01</td>\n",
       "      <td>Action, Science Fiction, Thriller</td>\n",
       "      <td>parliament, super soldier, soldier, indian army</td>\n",
       "      <td>Napoleon, Lift, Sixty Minutes, The Marvels, Wi...</td>\n",
       "      <td>Ratna Pathak Shah, Habib Al Aidroos, Prakash R...</td>\n",
       "      <td>Kuldeep Yadav, Akshay Jayantilal Gada, Nakul C...</td>\n",
       "      <td>NaN</td>\n",
       "      <td>NaN</td>\n",
       "      <td>NaN</td>\n",
       "    </tr>\n",
       "    <tr>\n",
       "      <th>4</th>\n",
       "      <td>The One Hundred</td>\n",
       "      <td>85</td>\n",
       "      <td>th</td>\n",
       "      <td>A quarantine hotel where overseas travellers s...</td>\n",
       "      <td>2022-10-06</td>\n",
       "      <td>Thriller, Horror, Science Fiction</td>\n",
       "      <td>quarantine, monster, centipede</td>\n",
       "      <td>Smile, Snag, Barbie, Parasite, Oppenheimer, Mi...</td>\n",
       "      <td>Kamonwan Kanaraksunti, Chanidapa Pongsilpipat,...</td>\n",
       "      <td>Paradorn Vesurai, Kamonwan Kanaraksunti, Soraw...</td>\n",
       "      <td>Amazon Prime Video</td>\n",
       "      <td>Apple TV, Amazon Video, Google Play Movies, Yo...</td>\n",
       "      <td>Apple TV, Amazon Video, Google Play Movies, Yo...</td>\n",
       "    </tr>\n",
       "    <tr>\n",
       "      <th>...</th>\n",
       "      <td>...</td>\n",
       "      <td>...</td>\n",
       "      <td>...</td>\n",
       "      <td>...</td>\n",
       "      <td>...</td>\n",
       "      <td>...</td>\n",
       "      <td>...</td>\n",
       "      <td>...</td>\n",
       "      <td>...</td>\n",
       "      <td>...</td>\n",
       "      <td>...</td>\n",
       "      <td>...</td>\n",
       "      <td>...</td>\n",
       "    </tr>\n",
       "    <tr>\n",
       "      <th>95</th>\n",
       "      <td>Ruby Gillman, Teenage Kraken</td>\n",
       "      <td>91</td>\n",
       "      <td>en</td>\n",
       "      <td>Ruby Gillman, a sweet and awkward high school ...</td>\n",
       "      <td>2023-06-28</td>\n",
       "      <td>Animation, Family, Fantasy, Comedy</td>\n",
       "      <td>high school, ocean, boat, transformation, fish...</td>\n",
       "      <td>The Flash, Barbie, Elemental, Transformers: Ri...</td>\n",
       "      <td>Ramona Young, Preston Arsement, Qalil Ismail, ...</td>\n",
       "      <td>Stan Seo, Mike Mitchell, Kirk DeMicco, Robert ...</td>\n",
       "      <td>Netflix, Netflix basic with Ads</td>\n",
       "      <td>Apple TV, Amazon Video, Google Play Movies, Yo...</td>\n",
       "      <td>Apple TV, Amazon Video, Google Play Movies, Yo...</td>\n",
       "    </tr>\n",
       "    <tr>\n",
       "      <th>96</th>\n",
       "      <td>The Wandering Earth II</td>\n",
       "      <td>173</td>\n",
       "      <td>zh</td>\n",
       "      <td>Humans built huge engines on the surface of th...</td>\n",
       "      <td>2023-01-22</td>\n",
       "      <td>Science Fiction, Action, Drama</td>\n",
       "      <td>space travel, space station, earth in peril, g...</td>\n",
       "      <td>The Wandering Earth, Fast X, Ant-Man and the W...</td>\n",
       "      <td>Tong Liya, Li Xuejian, Gao Ang, Li Ren, Wang L...</td>\n",
       "      <td>Han Cao, Diego Quecano, Ye Xiang, Roc Chen, Fr...</td>\n",
       "      <td>Hoopla</td>\n",
       "      <td>Apple TV, Amazon Video, Google Play Movies, Yo...</td>\n",
       "      <td>Apple TV, Amazon Video, Google Play Movies, Yo...</td>\n",
       "    </tr>\n",
       "    <tr>\n",
       "      <th>97</th>\n",
       "      <td>Creed III</td>\n",
       "      <td>116</td>\n",
       "      <td>en</td>\n",
       "      <td>After dominating the boxing world, Adonis Cree...</td>\n",
       "      <td>2023-03-01</td>\n",
       "      <td>Drama, Action</td>\n",
       "      <td>husband wife relationship, philadelphia, penns...</td>\n",
       "      <td>A Man Called Otto, Avatar: The Way of Water, S...</td>\n",
       "      <td>Natasha Ofili, Al Bernstein, Fernanda Gomez, J...</td>\n",
       "      <td>Kari Barber, Kersten Haff, Alex Leimone, Brenn...</td>\n",
       "      <td>Amazon Prime Video, fuboTV, MGM Plus Amazon Ch...</td>\n",
       "      <td>Apple TV, Amazon Video, Google Play Movies, Yo...</td>\n",
       "      <td>Apple TV, Amazon Video, Google Play Movies, Yo...</td>\n",
       "    </tr>\n",
       "    <tr>\n",
       "      <th>98</th>\n",
       "      <td>Dungeons &amp; Dragons: Honor Among Thieves</td>\n",
       "      <td>134</td>\n",
       "      <td>en</td>\n",
       "      <td>A charming thief and a band of unlikely advent...</td>\n",
       "      <td>2023-03-23</td>\n",
       "      <td>Adventure, Fantasy, Comedy</td>\n",
       "      <td>platonic love, gang of thieves, dragon, role p...</td>\n",
       "      <td>The Super Mario Bros. Movie, Guardians of the ...</td>\n",
       "      <td>Matthew Waterson, Sophia Lillis, Hugh Grant, J...</td>\n",
       "      <td>Ryō Murakawa, Phil Campbell, Tyler Allison, Da...</td>\n",
       "      <td>Amazon Prime Video, fuboTV, MGM Plus Amazon Ch...</td>\n",
       "      <td>Apple TV, Amazon Video, Google Play Movies, Yo...</td>\n",
       "      <td>Apple TV, Amazon Video, Google Play Movies, Yo...</td>\n",
       "    </tr>\n",
       "    <tr>\n",
       "      <th>99</th>\n",
       "      <td>Shazam! Fury of the Gods</td>\n",
       "      <td>130</td>\n",
       "      <td>en</td>\n",
       "      <td>Billy Batson and his foster siblings, who tran...</td>\n",
       "      <td>2023-03-15</td>\n",
       "      <td>Comedy, Action, Fantasy</td>\n",
       "      <td>superhero, end of the world, super power, afte...</td>\n",
       "      <td>Avatar: The Way of Water, Ant-Man and the Wasp...</td>\n",
       "      <td>Zachary Levi, Helen Mirren, P.J. Byrne, Djimon...</td>\n",
       "      <td>Raymond Chen, Michelle Rose, Sean Leigh Hart, ...</td>\n",
       "      <td>Netflix, Max, Max Amazon Channel, Netflix basi...</td>\n",
       "      <td>Apple TV, Amazon Video, Google Play Movies, Yo...</td>\n",
       "      <td>Apple TV, Amazon Video, Google Play Movies, Yo...</td>\n",
       "    </tr>\n",
       "  </tbody>\n",
       "</table>\n",
       "<p>200 rows × 13 columns</p>\n",
       "</div>"
      ],
      "text/plain": [
       "                                      Title  Runtime (minutes) Language  \\\n",
       "0                             The OctoGames                 88       en   \n",
       "1                              The Voyagers                108       it   \n",
       "2                                Agent Game                 90       en   \n",
       "3                                    Attack                123       hi   \n",
       "4                           The One Hundred                 85       th   \n",
       "..                                      ...                ...      ...   \n",
       "95             Ruby Gillman, Teenage Kraken                 91       en   \n",
       "96                   The Wandering Earth II                173       zh   \n",
       "97                                Creed III                116       en   \n",
       "98  Dungeons & Dragons: Honor Among Thieves                134       en   \n",
       "99                 Shazam! Fury of the Gods                130       en   \n",
       "\n",
       "                                             Overview Release Date  \\\n",
       "0   Eight contestants compete in eight deadly, cla...   2022-10-07   \n",
       "1   Time jump to 1939 with teenager Max and his fr...   2022-11-21   \n",
       "2   Harris, a CIA interrogator at an Agency black ...   2022-04-08   \n",
       "3   With the Parliament under siege, India’s first...   2022-04-01   \n",
       "4   A quarantine hotel where overseas travellers s...   2022-10-06   \n",
       "..                                                ...          ...   \n",
       "95  Ruby Gillman, a sweet and awkward high school ...   2023-06-28   \n",
       "96  Humans built huge engines on the surface of th...   2023-01-22   \n",
       "97  After dominating the boxing world, Adonis Cree...   2023-03-01   \n",
       "98  A charming thief and a band of unlikely advent...   2023-03-23   \n",
       "99  Billy Batson and his foster siblings, who tran...   2023-03-15   \n",
       "\n",
       "                                 Genre  \\\n",
       "0             Thriller, Action, Horror   \n",
       "1         Fantasy, Adventure, TV Movie   \n",
       "2                     Action, Thriller   \n",
       "3    Action, Science Fiction, Thriller   \n",
       "4    Thriller, Horror, Science Fiction   \n",
       "..                                 ...   \n",
       "95  Animation, Family, Fantasy, Comedy   \n",
       "96      Science Fiction, Action, Drama   \n",
       "97                       Drama, Action   \n",
       "98          Adventure, Fantasy, Comedy   \n",
       "99             Comedy, Action, Fantasy   \n",
       "\n",
       "                                              Keyword  \\\n",
       "0                                      遊戲, 挑戰極限, 組團打怪   \n",
       "1                              time travel, zeitreise   \n",
       "2   investigation, murder, betrayal, conspiracy, g...   \n",
       "3     parliament, super soldier, soldier, indian army   \n",
       "4                      quarantine, monster, centipede   \n",
       "..                                                ...   \n",
       "95  high school, ocean, boat, transformation, fish...   \n",
       "96  space travel, space station, earth in peril, g...   \n",
       "97  husband wife relationship, philadelphia, penns...   \n",
       "98  platonic love, gang of thieves, dragon, role p...   \n",
       "99  superhero, end of the world, super power, afte...   \n",
       "\n",
       "                                       Recommendation  \\\n",
       "0   Patriots Time, Oppenheimer, The Boy and the He...   \n",
       "1   Talk to Me, Jurassic World, Il mammone, Enemy ...   \n",
       "2   All the Old Knives, Avatar: The Way of Water, ...   \n",
       "3   Napoleon, Lift, Sixty Minutes, The Marvels, Wi...   \n",
       "4   Smile, Snag, Barbie, Parasite, Oppenheimer, Mi...   \n",
       "..                                                ...   \n",
       "95  The Flash, Barbie, Elemental, Transformers: Ri...   \n",
       "96  The Wandering Earth, Fast X, Ant-Man and the W...   \n",
       "97  A Man Called Otto, Avatar: The Way of Water, S...   \n",
       "98  The Super Mario Bros. Movie, Guardians of the ...   \n",
       "99  Avatar: The Way of Water, Ant-Man and the Wasp...   \n",
       "\n",
       "                                                 Cast  \\\n",
       "0   Henry Haggard, Sally Harvey Anderson, Claire P...   \n",
       "1   Gianmarco Saurino, Federico Tocci, Matteo Schi...   \n",
       "2   Gabby Kono, Adan Canto, Rhys Coiro, Annie Ilon...   \n",
       "3   Ratna Pathak Shah, Habib Al Aidroos, Prakash R...   \n",
       "4   Kamonwan Kanaraksunti, Chanidapa Pongsilpipat,...   \n",
       "..                                                ...   \n",
       "95  Ramona Young, Preston Arsement, Qalil Ismail, ...   \n",
       "96  Tong Liya, Li Xuejian, Gao Ang, Li Ren, Wang L...   \n",
       "97  Natasha Ofili, Al Bernstein, Fernanda Gomez, J...   \n",
       "98  Matthew Waterson, Sophia Lillis, Hugh Grant, J...   \n",
       "99  Zachary Levi, Helen Mirren, P.J. Byrne, Djimon...   \n",
       "\n",
       "                                                 Crew  \\\n",
       "0   Galen Christy, Aaron Mirtes, Dylan A. Young, B...   \n",
       "1   Michele Braga, Matteo Rovere, Gabriele Scarfon...   \n",
       "2   Edwin Cude, Jan Rey, Joshua Z. Timmerman, Eric...   \n",
       "3   Kuldeep Yadav, Akshay Jayantilal Gada, Nakul C...   \n",
       "4   Paradorn Vesurai, Kamonwan Kanaraksunti, Soraw...   \n",
       "..                                                ...   \n",
       "95  Stan Seo, Mike Mitchell, Kirk DeMicco, Robert ...   \n",
       "96  Han Cao, Diego Quecano, Ye Xiang, Roc Chen, Fr...   \n",
       "97  Kari Barber, Kersten Haff, Alex Leimone, Brenn...   \n",
       "98  Ryō Murakawa, Phil Campbell, Tyler Allison, Da...   \n",
       "99  Raymond Chen, Michelle Rose, Sean Leigh Hart, ...   \n",
       "\n",
       "                                               Stream  \\\n",
       "0                                                 NaN   \n",
       "1                                                 NaN   \n",
       "2                          Showtime Apple TV Channel    \n",
       "3                                                 NaN   \n",
       "4                                 Amazon Prime Video    \n",
       "..                                                ...   \n",
       "95                   Netflix, Netflix basic with Ads    \n",
       "96                                            Hoopla    \n",
       "97  Amazon Prime Video, fuboTV, MGM Plus Amazon Ch...   \n",
       "98  Amazon Prime Video, fuboTV, MGM Plus Amazon Ch...   \n",
       "99  Netflix, Max, Max Amazon Channel, Netflix basi...   \n",
       "\n",
       "                                                  Buy  \\\n",
       "0   Amazon Video, Google Play Movies, YouTube, Vud...   \n",
       "1                                                 NaN   \n",
       "2   Apple TV, Amazon Video, Google Play Movies, Yo...   \n",
       "3                                                 NaN   \n",
       "4   Apple TV, Amazon Video, Google Play Movies, Yo...   \n",
       "..                                                ...   \n",
       "95  Apple TV, Amazon Video, Google Play Movies, Yo...   \n",
       "96  Apple TV, Amazon Video, Google Play Movies, Yo...   \n",
       "97  Apple TV, Amazon Video, Google Play Movies, Yo...   \n",
       "98  Apple TV, Amazon Video, Google Play Movies, Yo...   \n",
       "99  Apple TV, Amazon Video, Google Play Movies, Yo...   \n",
       "\n",
       "                                                 Rent  \n",
       "0   Amazon Video, Google Play Movies, YouTube, Vud...  \n",
       "1                                                 NaN  \n",
       "2   Apple TV, Amazon Video, Google Play Movies, Yo...  \n",
       "3                                                 NaN  \n",
       "4   Apple TV, Amazon Video, Google Play Movies, Yo...  \n",
       "..                                                ...  \n",
       "95  Apple TV, Amazon Video, Google Play Movies, Yo...  \n",
       "96  Apple TV, Amazon Video, Google Play Movies, Yo...  \n",
       "97  Apple TV, Amazon Video, Google Play Movies, Yo...  \n",
       "98  Apple TV, Amazon Video, Google Play Movies, Yo...  \n",
       "99  Apple TV, Amazon Video, Google Play Movies, Yo...  \n",
       "\n",
       "[200 rows x 13 columns]"
      ]
     },
     "metadata": {},
     "output_type": "display_data"
    },
    {
     "name": "stdout",
     "output_type": "stream",
     "text": [
      "\n",
      "\n",
      "\u001b[1m> Entering new AgentExecutor chain...\u001b[0m\n",
      "\u001b[32;1m\u001b[1;3m\n",
      "Invoking: `python_repl_ast` with `{'query': \"df[df['Release Date'] == '2022-10-07']['Title']\"}`\n",
      "\n",
      "\n",
      "\u001b[0m\u001b[36;1m\u001b[1;3m0                      The OctoGames\n",
      "69    All Quiet on the Western Front\n",
      "97             Lyle, Lyle, Crocodile\n",
      "Name: Title, dtype: object\u001b[0m\u001b[32;1m\u001b[1;3mI recommend the following films that have a similar release date to \"Avatar: The Way of Water\":\n",
      "\n",
      "- **The OctoGames**: This film could be a good recommendation as it shares the same release date as \"Avatar: The Way of Water.\" It offers a thrilling storyline where eight contestants compete in deadly children's games, making it a captivating watch for fans of intense competition and suspense.\n",
      "\n",
      "- **All Quiet on the Western Front**: This classic film is known for its powerful depiction of the horrors of war and the human cost of conflict. Released around the same time as \"Avatar: The Way of Water,\" it provides a thought-provoking and emotional viewing experience that resonates with audiences seeking depth and historical context in their movies.\n",
      "\n",
      "- **Lyle, Lyle, Crocodile**: This film offers a different genre compared to the other recommendations but still carries the charm of a family-friendly story. Released alongside \"Avatar: The Way of Water,\" it could be a delightful choice for those looking for a light-hearted and entertaining watch with a touch of nostalgia.\n",
      "\n",
      "These films can be a great addition to your watchlist, offering a diverse range of themes and genres to explore.\u001b[0m\n",
      "\n",
      "\u001b[1m> Finished chain.\u001b[0m\n"
     ]
    },
    {
     "data": {
      "text/plain": [
       "{'input': 'Recommend films that have a similar relased date to Avatar: The Way of Water?',\n",
       " 'output': 'I recommend the following films that have a similar release date to \"Avatar: The Way of Water\":\\n\\n- **The OctoGames**: This film could be a good recommendation as it shares the same release date as \"Avatar: The Way of Water.\" It offers a thrilling storyline where eight contestants compete in deadly children\\'s games, making it a captivating watch for fans of intense competition and suspense.\\n\\n- **All Quiet on the Western Front**: This classic film is known for its powerful depiction of the horrors of war and the human cost of conflict. Released around the same time as \"Avatar: The Way of Water,\" it provides a thought-provoking and emotional viewing experience that resonates with audiences seeking depth and historical context in their movies.\\n\\n- **Lyle, Lyle, Crocodile**: This film offers a different genre compared to the other recommendations but still carries the charm of a family-friendly story. Released alongside \"Avatar: The Way of Water,\" it could be a delightful choice for those looking for a light-hearted and entertaining watch with a touch of nostalgia.\\n\\nThese films can be a great addition to your watchlist, offering a diverse range of themes and genres to explore.'}"
      ]
     },
     "execution_count": 19,
     "metadata": {},
     "output_type": "execute_result"
    }
   ],
   "source": [
    "from langchain_experimental.agents import create_pandas_dataframe_agent\n",
    "import pandas as pd\n",
    "\n",
    "# Specify the path to your CSV file\n",
    "csv_2022 = './data/2022_movie_collection_data.csv'\n",
    "csv_2023 = './data/2023_movie_collection_data.csv'\n",
    "\n",
    "# Read the CSV file into a DataFrame\n",
    "df_2022 = pd.read_csv(csv_2022)\n",
    "df_2023 = pd.read_csv(csv_2023)\n",
    "\n",
    "df_all = pd.concat([df_2022, df_2023])\n",
    "\n",
    "display(df_all)\n",
    "\n",
    "custom_prefix = \"\"\"\n",
    "You are an expert on films. Your goal is to recommend films to users based on their question and the retrieved context. \n",
    "If you don't know have a recommendation, just say that you don't have one. Format your film recommendations in a bullet \n",
    "point list. Always include the title of the film you are recommending, and always provide a justification for why you are \n",
    "recommending a particular film. Your justification should be at least four sentences per film. You should recommend no more \n",
    "than five films. If the user asks for film recommendations based on runtime, provide the runtime length in minutes in your response. \"\"\"\n",
    "agent = create_pandas_dataframe_agent(\n",
    "    chat_model, \n",
    "    df_all,\n",
    "    agent_type=\"openai-tools\", \n",
    "    verbose=True, \n",
    "    prefix=custom_prefix,\n",
    "    include_df_in_prompt=True, \n",
    "    number_of_head_rows=1)\n",
    "\n",
    "agent.invoke(\n",
    "    {\n",
    "        \"input\": \"Recommend films that have a similar relased date to Avatar: The Way of Water?\"\n",
    "    }\n",
    ")"
   ]
  },
  {
   "cell_type": "markdown",
   "metadata": {},
   "source": [
    "# SQL"
   ]
  },
  {
   "cell_type": "code",
   "execution_count": 30,
   "metadata": {},
   "outputs": [],
   "source": [
    "from langchain_openai import ChatOpenAI\n",
    "from langchain_community.agent_toolkits import create_sql_agent\n",
    "from langchain_community.utilities import SQLDatabase\n",
    "from sqlalchemy import create_engine\n",
    "\n",
    "engine = create_engine(\"sqlite:///movie.db\")\n",
    "# Convert release date to DATE format\n",
    "df_all['Release Date'] = pd.to_datetime(df_all['Release Date'])\n",
    "\n",
    "df_all.to_sql(\"movie\", engine, index=False, if_exists='replace')\n",
    "\n",
    "db = SQLDatabase(engine=engine)\n",
    "\n",
    "# agent_executor = create_sql_agent(chat_model, db=db, agent_type=\"openai-tools\", verbose=True)\n",
    "\n",
    "# agent.invoke(\n",
    "#     {\n",
    "#         \"input\": \"Recommend films that have a similar relased date to Avatar: The Way of Water?\"\n",
    "#     }\n",
    "# )"
   ]
  },
  {
   "cell_type": "markdown",
   "metadata": {},
   "source": [
    "# SQL Toolkit"
   ]
  },
  {
   "cell_type": "code",
   "execution_count": 44,
   "metadata": {},
   "outputs": [
    {
     "name": "stdout",
     "output_type": "stream",
     "text": [
      "{'table_info': '\\nCREATE TABLE movie (\\n\\t\"Title\" TEXT, \\n\\t\"Runtime (minutes)\" BIGINT, \\n\\t\"Language\" TEXT, \\n\\t\"Overview\" TEXT, \\n\\t\"Release Date\" DATETIME, \\n\\t\"Genre\" TEXT, \\n\\t\"Keyword\" TEXT, \\n\\t\"Recommendation\" TEXT, \\n\\t\"Cast\" TEXT, \\n\\t\"Crew\" TEXT, \\n\\t\"Stream\" TEXT, \\n\\t\"Buy\" TEXT, \\n\\t\"Rent\" TEXT\\n)\\n\\n/*\\n3 rows from movie table:\\nTitle\\tRuntime (minutes)\\tLanguage\\tOverview\\tRelease Date\\tGenre\\tKeyword\\tRecommendation\\tCast\\tCrew\\tStream\\tBuy\\tRent\\nThe OctoGames\\t88\\ten\\tEight contestants compete in eight deadly, classic children\\'s games. They seek fame beyond their wil\\t2022-10-07 00:00:00\\tThriller, Action, Horror\\t遊戲, 挑戰極限, 組團打怪\\tPatriots Time, Oppenheimer, The Boy and the Heron, Radical, Blue Beetle, Society of the Snow, Role P\\tHenry Haggard, Sally Harvey Anderson, Claire Palmer, Adam Pietripaoli, Patrick Sharn, Ali Thomas, Ca\\tGalen Christy, Aaron Mirtes, Dylan A. Young, Brad Belemjian\\tNone\\tAmazon Video, Google Play Movies, YouTube, Vudu, Microsoft Store \\tAmazon Video, Google Play Movies, YouTube, Vudu, Microsoft Store \\nThe Voyagers\\t108\\tit\\tTime jump to 1939 with teenager Max and his friends as they try to navigate Mussolini\\'s Rome and fin\\t2022-11-21 00:00:00\\tFantasy, Adventure, TV Movie\\ttime travel, zeitreise\\tTalk to Me, Jurassic World, Il mammone, Enemy Mine, Choose or Die, On the Edge, Barbie, Inception, P\\tGianmarco Saurino, Federico Tocci, Matteo Schiavone, Fabio Bizzarro, Andrea Gaia Wlderk, Fabrizio Gi\\tMichele Braga, Matteo Rovere, Gabriele Scarfone, Ludovico Di Martino, Gianni Vezzosi, Marco Bassano\\tNone\\tNone\\tNone\\nAgent Game\\t90\\ten\\tHarris, a CIA interrogator at an Agency black site, finds himself the target of a rendition operatio\\t2022-04-08 00:00:00\\tAction, Thriller\\tinvestigation, murder, betrayal, conspiracy, government agent, manhunt\\tAll the Old Knives, Avatar: The Way of Water, Kimi, Cobweb, The Lost City, The Mole Agent, The Ages \\tGabby Kono, Adan Canto, Rhys Coiro, Annie Ilonzeh, Mark Weinhandl, Andrew Masset, Michael Flippo, Ni\\tEdwin Cude, Jan Rey, Joshua Z. Timmerman, Eric Hollenbeck, Christian Brunetti, Scott Daniel, Warren \\tShowtime Apple TV Channel \\tApple TV, Amazon Video, Google Play Movies, YouTube, Vudu, Microsoft Store, AMC on Demand \\tApple TV, Amazon Video, Google Play Movies, YouTube, Vudu, Microsoft Store \\n*/', 'table_names': 'movie'}\n",
      "[QuerySQLDataBaseTool(description=\"Input to this tool is a detailed and correct SQL query, output is a result from the database. If the query is not correct, an error message will be returned. If an error is returned, rewrite the query, check the query, and try again. If you encounter an issue with Unknown column 'xxxx' in 'field list', use sql_db_schema to query the correct table fields.\", db=<langchain_community.utilities.sql_database.SQLDatabase object at 0x16b00e9c0>), InfoSQLDatabaseTool(description='Input to this tool is a comma-separated list of tables, output is the schema and sample rows for those tables. Be sure that the tables actually exist by calling sql_db_list_tables first! Example Input: table1, table2, table3', db=<langchain_community.utilities.sql_database.SQLDatabase object at 0x16b00e9c0>), ListSQLDatabaseTool(db=<langchain_community.utilities.sql_database.SQLDatabase object at 0x16b00e9c0>), QuerySQLCheckerTool(description='Use this tool to double check if your query is correct before executing it. Always use this tool before executing a query with sql_db_query!', db=<langchain_community.utilities.sql_database.SQLDatabase object at 0x16b00e9c0>, llm=ChatOpenAI(client=<openai.resources.chat.completions.Completions object at 0x16b2368a0>, async_client=<openai.resources.chat.completions.AsyncCompletions object at 0x16b234ec0>, temperature=0.0, openai_api_key=SecretStr('**********'), openai_proxy=''), llm_chain=LLMChain(prompt=PromptTemplate(input_variables=['dialect', 'query'], template='\\n{query}\\nDouble check the {dialect} query above for common mistakes, including:\\n- Using NOT IN with NULL values\\n- Using UNION when UNION ALL should have been used\\n- Using BETWEEN for exclusive ranges\\n- Data type mismatch in predicates\\n- Properly quoting identifiers\\n- Using the correct number of arguments for functions\\n- Casting to the correct data type\\n- Using the proper columns for joins\\n\\nIf there are any of the above mistakes, rewrite the query. If there are no mistakes, just reproduce the original query.\\n\\nOutput the final SQL query only.\\n\\nSQL Query: '), llm=ChatOpenAI(client=<openai.resources.chat.completions.Completions object at 0x16b2368a0>, async_client=<openai.resources.chat.completions.AsyncCompletions object at 0x16b234ec0>, temperature=0.0, openai_api_key=SecretStr('**********'), openai_proxy='')))]\n"
     ]
    }
   ],
   "source": [
    "from langchain_community.agent_toolkits import SQLDatabaseToolkit\n",
    "from langchain_openai import ChatOpenAI\n",
    "from langchain_community.agent_toolkits.sql.prompt import SQL_FUNCTIONS_SUFFIX\n",
    "from langchain_core.messages import AIMessage, SystemMessage\n",
    "from langchain_core.prompts.chat import (\n",
    "    ChatPromptTemplate,\n",
    "    HumanMessagePromptTemplate,\n",
    "    MessagesPlaceholder,\n",
    ")\n",
    "\n",
    "toolkit = SQLDatabaseToolkit(db=db, llm=ChatOpenAI(temperature=0))\n",
    "context = toolkit.get_context()\n",
    "tools = toolkit.get_tools()\n",
    "\n",
    "print(context)\n",
    "print(tools)\n",
    "\n",
    "messages = [\n",
    "    HumanMessagePromptTemplate.from_template(\"{input}\"),\n",
    "    AIMessage(content=SQL_FUNCTIONS_SUFFIX),\n",
    "    MessagesPlaceholder(variable_name=\"agent_scratchpad\"),\n",
    "]\n",
    "\n",
    "prompt = ChatPromptTemplate.from_messages(messages)\n",
    "prompt = prompt.partial(**context)\n",
    "\n",
    "llm = ChatOpenAI(model=\"gpt-3.5-turbo-0125\", temperature=0)\n",
    "\n",
    "agent = create_openai_tools_agent(llm, tools, prompt)\n",
    "\n",
    "agent_executor = AgentExecutor(\n",
    "    agent=agent,\n",
    "    tools=toolkit.get_tools(),\n",
    "    verbose=True,\n",
    ")"
   ]
  },
  {
   "cell_type": "code",
   "execution_count": 46,
   "metadata": {},
   "outputs": [
    {
     "name": "stdout",
     "output_type": "stream",
     "text": [
      "\n",
      "\n",
      "\u001b[1m> Entering new AgentExecutor chain...\u001b[0m\n",
      "\u001b[32;1m\u001b[1;3m\n",
      "Invoking: `sql_db_list_tables` with ``\n",
      "\n",
      "\n",
      "\u001b[0m\u001b[38;5;200m\u001b[1;3mmovie\u001b[0m\u001b[32;1m\u001b[1;3m\n",
      "Invoking: `sql_db_schema` with `{'table_names': 'movie'}`\n",
      "\n",
      "\n",
      "\u001b[0m\u001b[33;1m\u001b[1;3m\n",
      "CREATE TABLE movie (\n",
      "\t\"Title\" TEXT, \n",
      "\t\"Runtime (minutes)\" BIGINT, \n",
      "\t\"Language\" TEXT, \n",
      "\t\"Overview\" TEXT, \n",
      "\t\"Release Date\" DATETIME, \n",
      "\t\"Genre\" TEXT, \n",
      "\t\"Keyword\" TEXT, \n",
      "\t\"Recommendation\" TEXT, \n",
      "\t\"Cast\" TEXT, \n",
      "\t\"Crew\" TEXT, \n",
      "\t\"Stream\" TEXT, \n",
      "\t\"Buy\" TEXT, \n",
      "\t\"Rent\" TEXT\n",
      ")\n",
      "\n",
      "/*\n",
      "3 rows from movie table:\n",
      "Title\tRuntime (minutes)\tLanguage\tOverview\tRelease Date\tGenre\tKeyword\tRecommendation\tCast\tCrew\tStream\tBuy\tRent\n",
      "The OctoGames\t88\ten\tEight contestants compete in eight deadly, classic children's games. They seek fame beyond their wil\t2022-10-07 00:00:00\tThriller, Action, Horror\t遊戲, 挑戰極限, 組團打怪\tPatriots Time, Oppenheimer, The Boy and the Heron, Radical, Blue Beetle, Society of the Snow, Role P\tHenry Haggard, Sally Harvey Anderson, Claire Palmer, Adam Pietripaoli, Patrick Sharn, Ali Thomas, Ca\tGalen Christy, Aaron Mirtes, Dylan A. Young, Brad Belemjian\tNone\tAmazon Video, Google Play Movies, YouTube, Vudu, Microsoft Store \tAmazon Video, Google Play Movies, YouTube, Vudu, Microsoft Store \n",
      "The Voyagers\t108\tit\tTime jump to 1939 with teenager Max and his friends as they try to navigate Mussolini's Rome and fin\t2022-11-21 00:00:00\tFantasy, Adventure, TV Movie\ttime travel, zeitreise\tTalk to Me, Jurassic World, Il mammone, Enemy Mine, Choose or Die, On the Edge, Barbie, Inception, P\tGianmarco Saurino, Federico Tocci, Matteo Schiavone, Fabio Bizzarro, Andrea Gaia Wlderk, Fabrizio Gi\tMichele Braga, Matteo Rovere, Gabriele Scarfone, Ludovico Di Martino, Gianni Vezzosi, Marco Bassano\tNone\tNone\tNone\n",
      "Agent Game\t90\ten\tHarris, a CIA interrogator at an Agency black site, finds himself the target of a rendition operatio\t2022-04-08 00:00:00\tAction, Thriller\tinvestigation, murder, betrayal, conspiracy, government agent, manhunt\tAll the Old Knives, Avatar: The Way of Water, Kimi, Cobweb, The Lost City, The Mole Agent, The Ages \tGabby Kono, Adan Canto, Rhys Coiro, Annie Ilonzeh, Mark Weinhandl, Andrew Masset, Michael Flippo, Ni\tEdwin Cude, Jan Rey, Joshua Z. Timmerman, Eric Hollenbeck, Christian Brunetti, Scott Daniel, Warren \tShowtime Apple TV Channel \tApple TV, Amazon Video, Google Play Movies, YouTube, Vudu, Microsoft Store, AMC on Demand \tApple TV, Amazon Video, Google Play Movies, YouTube, Vudu, Microsoft Store \n",
      "*/\u001b[0m\u001b[32;1m\u001b[1;3m\n",
      "Invoking: `sql_db_query` with `SELECT Title FROM movie WHERE Language = 'it' AND Genre LIKE '%Science Fiction%'`\n",
      "\n",
      "\n",
      "\u001b[0m\u001b[36;1m\u001b[1;3m\u001b[0m\u001b[32;1m\u001b[1;3mI have queried the database for Italian science fiction films, but it seems there are no results matching that criteria. Would you like me to recommend science fiction films in another language or genre?\u001b[0m\n",
      "\n",
      "\u001b[1m> Finished chain.\u001b[0m\n"
     ]
    },
    {
     "data": {
      "text/plain": [
       "{'input': 'Recommend me a list of science fiction films in Italian.',\n",
       " 'output': 'I have queried the database for Italian science fiction films, but it seems there are no results matching that criteria. Would you like me to recommend science fiction films in another language or genre?'}"
      ]
     },
     "execution_count": 46,
     "metadata": {},
     "output_type": "execute_result"
    }
   ],
   "source": [
    "agent_executor.invoke(\n",
    "    {\"input\": \"Recommend me a list of science fiction films in Italian.\"})"
   ]
  },
  {
   "cell_type": "code",
   "execution_count": null,
   "metadata": {},
   "outputs": [],
   "source": []
  }
 ],
 "metadata": {
  "kernelspec": {
   "display_name": "FilmBot",
   "language": "python",
   "name": "python3"
  },
  "language_info": {
   "codemirror_mode": {
    "name": "ipython",
    "version": 3
   },
   "file_extension": ".py",
   "mimetype": "text/x-python",
   "name": "python",
   "nbconvert_exporter": "python",
   "pygments_lexer": "ipython3",
   "version": "3.12.2"
  }
 },
 "nbformat": 4,
 "nbformat_minor": 2
}
